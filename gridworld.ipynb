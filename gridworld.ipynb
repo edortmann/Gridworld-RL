{
 "cells": [
  {
   "cell_type": "markdown",
   "id": "782397ebf8b4cfff",
   "metadata": {},
   "source": [
    "# **Minimal Gridworld + Q-Learning**\n",
    "\n",
    "This notebook has two parts:\n",
    "1. **Small Interactive Grid**: Let a user move around manually (via text input) in a tiny grid.\n",
    "2. **Q-Learning on a Larger Grid**: An environment with special tiles (ice, bumpers, pits, etc.) and Q-learning to find a policy."
   ]
  },
  {
   "cell_type": "code",
   "id": "a27c67138da7f89c",
   "metadata": {
    "ExecuteTime": {
     "end_time": "2025-03-21T09:36:37.398815Z",
     "start_time": "2025-03-21T09:36:29.817257Z"
    }
   },
   "source": [
    "# Install packages in the current Jupyter kernel\n",
    "import sys\n",
    "!{sys.executable} -m pip install numpy\n",
    "!{sys.executable} -m pip install ipywidgets\n",
    "!{sys.executable} -m pip install ipycanvas\n",
    "!{sys.executable} -m pip install ipyevents"
   ],
   "outputs": [
    {
     "name": "stdout",
     "output_type": "stream",
     "text": [
      "Requirement already satisfied: numpy in c:\\users\\ericd\\appdata\\local\\programs\\python\\python313\\lib\\site-packages (2.2.4)\n",
      "Requirement already satisfied: ipywidgets in c:\\users\\ericd\\appdata\\local\\programs\\python\\python313\\lib\\site-packages (8.1.5)\n",
      "Requirement already satisfied: comm>=0.1.3 in c:\\users\\ericd\\appdata\\local\\programs\\python\\python313\\lib\\site-packages (from ipywidgets) (0.2.2)\n",
      "Requirement already satisfied: ipython>=6.1.0 in c:\\users\\ericd\\appdata\\local\\programs\\python\\python313\\lib\\site-packages (from ipywidgets) (9.0.1)\n",
      "Requirement already satisfied: traitlets>=4.3.1 in c:\\users\\ericd\\appdata\\local\\programs\\python\\python313\\lib\\site-packages (from ipywidgets) (5.14.3)\n",
      "Requirement already satisfied: widgetsnbextension~=4.0.12 in c:\\users\\ericd\\appdata\\local\\programs\\python\\python313\\lib\\site-packages (from ipywidgets) (4.0.13)\n",
      "Requirement already satisfied: jupyterlab-widgets~=3.0.12 in c:\\users\\ericd\\appdata\\local\\programs\\python\\python313\\lib\\site-packages (from ipywidgets) (3.0.13)\n",
      "Requirement already satisfied: colorama in c:\\users\\ericd\\appdata\\local\\programs\\python\\python313\\lib\\site-packages (from ipython>=6.1.0->ipywidgets) (0.4.6)\n",
      "Requirement already satisfied: decorator in c:\\users\\ericd\\appdata\\local\\programs\\python\\python313\\lib\\site-packages (from ipython>=6.1.0->ipywidgets) (5.2.1)\n",
      "Requirement already satisfied: ipython-pygments-lexers in c:\\users\\ericd\\appdata\\local\\programs\\python\\python313\\lib\\site-packages (from ipython>=6.1.0->ipywidgets) (1.1.1)\n",
      "Requirement already satisfied: jedi>=0.16 in c:\\users\\ericd\\appdata\\local\\programs\\python\\python313\\lib\\site-packages (from ipython>=6.1.0->ipywidgets) (0.19.2)\n",
      "Requirement already satisfied: matplotlib-inline in c:\\users\\ericd\\appdata\\local\\programs\\python\\python313\\lib\\site-packages (from ipython>=6.1.0->ipywidgets) (0.1.7)\n",
      "Requirement already satisfied: prompt_toolkit<3.1.0,>=3.0.41 in c:\\users\\ericd\\appdata\\local\\programs\\python\\python313\\lib\\site-packages (from ipython>=6.1.0->ipywidgets) (3.0.50)\n",
      "Requirement already satisfied: pygments>=2.4.0 in c:\\users\\ericd\\appdata\\local\\programs\\python\\python313\\lib\\site-packages (from ipython>=6.1.0->ipywidgets) (2.19.1)\n",
      "Requirement already satisfied: stack_data in c:\\users\\ericd\\appdata\\local\\programs\\python\\python313\\lib\\site-packages (from ipython>=6.1.0->ipywidgets) (0.6.3)\n",
      "Requirement already satisfied: parso<0.9.0,>=0.8.4 in c:\\users\\ericd\\appdata\\local\\programs\\python\\python313\\lib\\site-packages (from jedi>=0.16->ipython>=6.1.0->ipywidgets) (0.8.4)\n",
      "Requirement already satisfied: wcwidth in c:\\users\\ericd\\appdata\\local\\programs\\python\\python313\\lib\\site-packages (from prompt_toolkit<3.1.0,>=3.0.41->ipython>=6.1.0->ipywidgets) (0.2.13)\n",
      "Requirement already satisfied: executing>=1.2.0 in c:\\users\\ericd\\appdata\\local\\programs\\python\\python313\\lib\\site-packages (from stack_data->ipython>=6.1.0->ipywidgets) (2.2.0)\n",
      "Requirement already satisfied: asttokens>=2.1.0 in c:\\users\\ericd\\appdata\\local\\programs\\python\\python313\\lib\\site-packages (from stack_data->ipython>=6.1.0->ipywidgets) (3.0.0)\n",
      "Requirement already satisfied: pure-eval in c:\\users\\ericd\\appdata\\local\\programs\\python\\python313\\lib\\site-packages (from stack_data->ipython>=6.1.0->ipywidgets) (0.2.3)\n",
      "Requirement already satisfied: ipycanvas in c:\\users\\ericd\\appdata\\local\\programs\\python\\python313\\lib\\site-packages (0.13.3)\n",
      "Requirement already satisfied: ipywidgets<9,>=7.6.0 in c:\\users\\ericd\\appdata\\local\\programs\\python\\python313\\lib\\site-packages (from ipycanvas) (8.1.5)\n",
      "Requirement already satisfied: numpy in c:\\users\\ericd\\appdata\\local\\programs\\python\\python313\\lib\\site-packages (from ipycanvas) (2.2.4)\n",
      "Requirement already satisfied: pillow>=6.0 in c:\\users\\ericd\\appdata\\local\\programs\\python\\python313\\lib\\site-packages (from ipycanvas) (11.1.0)\n",
      "Requirement already satisfied: comm>=0.1.3 in c:\\users\\ericd\\appdata\\local\\programs\\python\\python313\\lib\\site-packages (from ipywidgets<9,>=7.6.0->ipycanvas) (0.2.2)\n",
      "Requirement already satisfied: ipython>=6.1.0 in c:\\users\\ericd\\appdata\\local\\programs\\python\\python313\\lib\\site-packages (from ipywidgets<9,>=7.6.0->ipycanvas) (9.0.1)\n",
      "Requirement already satisfied: traitlets>=4.3.1 in c:\\users\\ericd\\appdata\\local\\programs\\python\\python313\\lib\\site-packages (from ipywidgets<9,>=7.6.0->ipycanvas) (5.14.3)\n",
      "Requirement already satisfied: widgetsnbextension~=4.0.12 in c:\\users\\ericd\\appdata\\local\\programs\\python\\python313\\lib\\site-packages (from ipywidgets<9,>=7.6.0->ipycanvas) (4.0.13)\n",
      "Requirement already satisfied: jupyterlab-widgets~=3.0.12 in c:\\users\\ericd\\appdata\\local\\programs\\python\\python313\\lib\\site-packages (from ipywidgets<9,>=7.6.0->ipycanvas) (3.0.13)\n",
      "Requirement already satisfied: colorama in c:\\users\\ericd\\appdata\\local\\programs\\python\\python313\\lib\\site-packages (from ipython>=6.1.0->ipywidgets<9,>=7.6.0->ipycanvas) (0.4.6)\n",
      "Requirement already satisfied: decorator in c:\\users\\ericd\\appdata\\local\\programs\\python\\python313\\lib\\site-packages (from ipython>=6.1.0->ipywidgets<9,>=7.6.0->ipycanvas) (5.2.1)\n",
      "Requirement already satisfied: ipython-pygments-lexers in c:\\users\\ericd\\appdata\\local\\programs\\python\\python313\\lib\\site-packages (from ipython>=6.1.0->ipywidgets<9,>=7.6.0->ipycanvas) (1.1.1)\n",
      "Requirement already satisfied: jedi>=0.16 in c:\\users\\ericd\\appdata\\local\\programs\\python\\python313\\lib\\site-packages (from ipython>=6.1.0->ipywidgets<9,>=7.6.0->ipycanvas) (0.19.2)\n",
      "Requirement already satisfied: matplotlib-inline in c:\\users\\ericd\\appdata\\local\\programs\\python\\python313\\lib\\site-packages (from ipython>=6.1.0->ipywidgets<9,>=7.6.0->ipycanvas) (0.1.7)\n",
      "Requirement already satisfied: prompt_toolkit<3.1.0,>=3.0.41 in c:\\users\\ericd\\appdata\\local\\programs\\python\\python313\\lib\\site-packages (from ipython>=6.1.0->ipywidgets<9,>=7.6.0->ipycanvas) (3.0.50)\n",
      "Requirement already satisfied: pygments>=2.4.0 in c:\\users\\ericd\\appdata\\local\\programs\\python\\python313\\lib\\site-packages (from ipython>=6.1.0->ipywidgets<9,>=7.6.0->ipycanvas) (2.19.1)\n",
      "Requirement already satisfied: stack_data in c:\\users\\ericd\\appdata\\local\\programs\\python\\python313\\lib\\site-packages (from ipython>=6.1.0->ipywidgets<9,>=7.6.0->ipycanvas) (0.6.3)\n",
      "Requirement already satisfied: parso<0.9.0,>=0.8.4 in c:\\users\\ericd\\appdata\\local\\programs\\python\\python313\\lib\\site-packages (from jedi>=0.16->ipython>=6.1.0->ipywidgets<9,>=7.6.0->ipycanvas) (0.8.4)\n",
      "Requirement already satisfied: wcwidth in c:\\users\\ericd\\appdata\\local\\programs\\python\\python313\\lib\\site-packages (from prompt_toolkit<3.1.0,>=3.0.41->ipython>=6.1.0->ipywidgets<9,>=7.6.0->ipycanvas) (0.2.13)\n",
      "Requirement already satisfied: executing>=1.2.0 in c:\\users\\ericd\\appdata\\local\\programs\\python\\python313\\lib\\site-packages (from stack_data->ipython>=6.1.0->ipywidgets<9,>=7.6.0->ipycanvas) (2.2.0)\n",
      "Requirement already satisfied: asttokens>=2.1.0 in c:\\users\\ericd\\appdata\\local\\programs\\python\\python313\\lib\\site-packages (from stack_data->ipython>=6.1.0->ipywidgets<9,>=7.6.0->ipycanvas) (3.0.0)\n",
      "Requirement already satisfied: pure-eval in c:\\users\\ericd\\appdata\\local\\programs\\python\\python313\\lib\\site-packages (from stack_data->ipython>=6.1.0->ipywidgets<9,>=7.6.0->ipycanvas) (0.2.3)\n",
      "Requirement already satisfied: ipyevents in c:\\users\\ericd\\appdata\\local\\programs\\python\\python313\\lib\\site-packages (2.0.2)\n",
      "Requirement already satisfied: ipywidgets>=7.6.0 in c:\\users\\ericd\\appdata\\local\\programs\\python\\python313\\lib\\site-packages (from ipyevents) (8.1.5)\n",
      "Requirement already satisfied: comm>=0.1.3 in c:\\users\\ericd\\appdata\\local\\programs\\python\\python313\\lib\\site-packages (from ipywidgets>=7.6.0->ipyevents) (0.2.2)\n",
      "Requirement already satisfied: ipython>=6.1.0 in c:\\users\\ericd\\appdata\\local\\programs\\python\\python313\\lib\\site-packages (from ipywidgets>=7.6.0->ipyevents) (9.0.1)\n",
      "Requirement already satisfied: traitlets>=4.3.1 in c:\\users\\ericd\\appdata\\local\\programs\\python\\python313\\lib\\site-packages (from ipywidgets>=7.6.0->ipyevents) (5.14.3)\n",
      "Requirement already satisfied: widgetsnbextension~=4.0.12 in c:\\users\\ericd\\appdata\\local\\programs\\python\\python313\\lib\\site-packages (from ipywidgets>=7.6.0->ipyevents) (4.0.13)\n",
      "Requirement already satisfied: jupyterlab-widgets~=3.0.12 in c:\\users\\ericd\\appdata\\local\\programs\\python\\python313\\lib\\site-packages (from ipywidgets>=7.6.0->ipyevents) (3.0.13)\n",
      "Requirement already satisfied: colorama in c:\\users\\ericd\\appdata\\local\\programs\\python\\python313\\lib\\site-packages (from ipython>=6.1.0->ipywidgets>=7.6.0->ipyevents) (0.4.6)\n",
      "Requirement already satisfied: decorator in c:\\users\\ericd\\appdata\\local\\programs\\python\\python313\\lib\\site-packages (from ipython>=6.1.0->ipywidgets>=7.6.0->ipyevents) (5.2.1)\n",
      "Requirement already satisfied: ipython-pygments-lexers in c:\\users\\ericd\\appdata\\local\\programs\\python\\python313\\lib\\site-packages (from ipython>=6.1.0->ipywidgets>=7.6.0->ipyevents) (1.1.1)\n",
      "Requirement already satisfied: jedi>=0.16 in c:\\users\\ericd\\appdata\\local\\programs\\python\\python313\\lib\\site-packages (from ipython>=6.1.0->ipywidgets>=7.6.0->ipyevents) (0.19.2)\n",
      "Requirement already satisfied: matplotlib-inline in c:\\users\\ericd\\appdata\\local\\programs\\python\\python313\\lib\\site-packages (from ipython>=6.1.0->ipywidgets>=7.6.0->ipyevents) (0.1.7)\n",
      "Requirement already satisfied: prompt_toolkit<3.1.0,>=3.0.41 in c:\\users\\ericd\\appdata\\local\\programs\\python\\python313\\lib\\site-packages (from ipython>=6.1.0->ipywidgets>=7.6.0->ipyevents) (3.0.50)\n",
      "Requirement already satisfied: pygments>=2.4.0 in c:\\users\\ericd\\appdata\\local\\programs\\python\\python313\\lib\\site-packages (from ipython>=6.1.0->ipywidgets>=7.6.0->ipyevents) (2.19.1)\n",
      "Requirement already satisfied: stack_data in c:\\users\\ericd\\appdata\\local\\programs\\python\\python313\\lib\\site-packages (from ipython>=6.1.0->ipywidgets>=7.6.0->ipyevents) (0.6.3)\n",
      "Requirement already satisfied: parso<0.9.0,>=0.8.4 in c:\\users\\ericd\\appdata\\local\\programs\\python\\python313\\lib\\site-packages (from jedi>=0.16->ipython>=6.1.0->ipywidgets>=7.6.0->ipyevents) (0.8.4)\n",
      "Requirement already satisfied: wcwidth in c:\\users\\ericd\\appdata\\local\\programs\\python\\python313\\lib\\site-packages (from prompt_toolkit<3.1.0,>=3.0.41->ipython>=6.1.0->ipywidgets>=7.6.0->ipyevents) (0.2.13)\n",
      "Requirement already satisfied: executing>=1.2.0 in c:\\users\\ericd\\appdata\\local\\programs\\python\\python313\\lib\\site-packages (from stack_data->ipython>=6.1.0->ipywidgets>=7.6.0->ipyevents) (2.2.0)\n",
      "Requirement already satisfied: asttokens>=2.1.0 in c:\\users\\ericd\\appdata\\local\\programs\\python\\python313\\lib\\site-packages (from stack_data->ipython>=6.1.0->ipywidgets>=7.6.0->ipyevents) (3.0.0)\n",
      "Requirement already satisfied: pure-eval in c:\\users\\ericd\\appdata\\local\\programs\\python\\python313\\lib\\site-packages (from stack_data->ipython>=6.1.0->ipywidgets>=7.6.0->ipyevents) (0.2.3)\n"
     ]
    }
   ],
   "execution_count": 53
  },
  {
   "cell_type": "code",
   "id": "9637f60d934e0c29",
   "metadata": {
    "ExecuteTime": {
     "end_time": "2025-03-21T09:36:37.405191Z",
     "start_time": "2025-03-21T09:36:37.402488Z"
    }
   },
   "source": [
    "# libraries for displaying and user input\n",
    "import ipywidgets as widgets\n",
    "from IPython.display import display, clear_output\n",
    "import ipycanvas\n",
    "import ipyevents\n",
    "\n",
    "# libraries for RL\n",
    "import numpy as np\n",
    "import math"
   ],
   "outputs": [],
   "execution_count": 54
  },
  {
   "cell_type": "markdown",
   "id": "e14a70bf53fe7ddf",
   "metadata": {},
   "source": [
    "## Part 1: Small Interactive Environment\n",
    "We define a 3x3 environment. The user sees only cells they have \\\"visited\\\".\n",
    "- Use buttons `up`, `down`, `left`, `right` to move.\n",
    "- If you step into the goal, you win!\n",
    "- This small environment is purely for demonstration and manual play."
   ]
  },
  {
   "cell_type": "code",
   "id": "4086195be1ce010f",
   "metadata": {
    "ExecuteTime": {
     "end_time": "2025-03-21T09:36:37.417782Z",
     "start_time": "2025-03-21T09:36:37.412678Z"
    }
   },
   "source": [
    "class SmallGridEnv:\n",
    "    def __init__(self, rows=3, cols=3):\n",
    "        self.rows = rows\n",
    "        self.cols = cols\n",
    "        # Define start and goal\n",
    "        self.start = (0, 0)\n",
    "        self.goal = (rows-1, cols-1)\n",
    "        # Current position\n",
    "        self.agent_pos = self.start\n",
    "        # Keep track of visited cells\n",
    "        self.visited = set()\n",
    "        self.visited.add(self.start)\n",
    "\n",
    "    def reset(self):\n",
    "        self.agent_pos = self.start\n",
    "        self.visited = set([self.start])\n",
    "        return self.agent_pos\n",
    "\n",
    "    def step(self, action):\n",
    "        # action is one of 'up', 'down', 'left', 'right' (or aliases)\n",
    "        r, c = self.agent_pos\n",
    "        if action in ['up', 'u']:\n",
    "            r = max(r-1, 0)\n",
    "        elif action in ['down', 'd']:\n",
    "            r = min(r+1, self.rows-1)\n",
    "        elif action in ['left', 'l']:\n",
    "            c = max(c-1, 0)\n",
    "        elif action in ['right', 'r']:\n",
    "            c = min(c+1, self.cols-1)\n",
    "        self.agent_pos = (r, c)\n",
    "        self.visited.add(self.agent_pos)\n",
    "        done = (self.agent_pos == self.goal)\n",
    "        return self.agent_pos, done\n",
    "\n",
    "    def render(self):\n",
    "        # We show only the visited cells, all others are '?' or '.'\n",
    "        # 'A' = agent, 'G' = goal, '.' = visited, '?' = unvisited\n",
    "        grid_display = []\n",
    "        for r in range(self.rows):\n",
    "            row_chars = []\n",
    "            for c in range(self.cols):\n",
    "                pos = (r,c)\n",
    "                if pos == self.agent_pos:\n",
    "                    row_chars.append('A')\n",
    "                elif pos == self.goal:\n",
    "                    # Show goal if visited, else hide\n",
    "                    if pos in self.visited:\n",
    "                        row_chars.append('G')\n",
    "                    else:\n",
    "                        row_chars.append('?')\n",
    "                else:\n",
    "                    if pos in self.visited:\n",
    "                        row_chars.append('.')\n",
    "                    else:\n",
    "                        row_chars.append('?')\n",
    "            grid_display.append(' '.join(row_chars))\n",
    "        display_str = '\\n'.join(grid_display)\n",
    "        print(display_str)  # text-based print"
   ],
   "outputs": [],
   "execution_count": 55
  },
  {
   "cell_type": "markdown",
   "id": "9432c1ceeeec0d96",
   "metadata": {},
   "source": [
    "### Manual Play\n",
    "\n",
    "#### Using buttons (needs ipywidgets library):"
   ]
  },
  {
   "cell_type": "code",
   "id": "c62d19bf1c96d38e",
   "metadata": {
    "ExecuteTime": {
     "end_time": "2025-03-21T09:36:37.439348Z",
     "start_time": "2025-03-21T09:36:37.426361Z"
    }
   },
   "source": [
    "env = SmallGridEnv(rows=3, cols=3)\n",
    "env.reset()\n",
    "\n",
    "# Create buttons for each action\n",
    "button_up = widgets.Button(description=\"Up\")\n",
    "button_down = widgets.Button(description=\"Down\")\n",
    "button_left = widgets.Button(description=\"Left\")\n",
    "button_right = widgets.Button(description=\"Right\")\n",
    "\n",
    "# Display area for the grid\n",
    "output = widgets.Output()\n",
    "\n",
    "# Put them into a GridBox\n",
    "controls = widgets.GridBox(\n",
    "    children=[button_up, button_left, button_right, button_down],\n",
    "    layout=widgets.Layout(\n",
    "        width='390px',\n",
    "        grid_template_rows='50px 50px 50px',\n",
    "        grid_template_columns='100px 100px 100px',\n",
    "        justify_items='center',\n",
    "        align_items='center'\n",
    "    )\n",
    ")\n",
    "\n",
    "# Assign each button to the right \"cell\"\n",
    "# (row / column) are 1-indexed here\n",
    "button_up.layout.grid_area = '1 / 2'    # Row 1, Column 2\n",
    "button_left.layout.grid_area = '2 / 1'  # Row 2, Column 1\n",
    "button_right.layout.grid_area = '2 / 3' # Row 2, Column 3\n",
    "button_down.layout.grid_area = '3 / 2'  # Row 3, Column 2\n",
    "\n",
    "def on_button_click(button):\n",
    "    with output:\n",
    "        # Clear previous output\n",
    "        clear_output(wait=True)\n",
    "\n",
    "        # Determine action based on which button was clicked\n",
    "        if button.description == \"Up\":\n",
    "            action = \"up\"\n",
    "        elif button.description == \"Down\":\n",
    "            action = \"down\"\n",
    "        elif button.description == \"Left\":\n",
    "            action = \"left\"\n",
    "        elif button.description == \"Right\":\n",
    "            action = \"right\"\n",
    "\n",
    "        # Step the environment\n",
    "        obs, done = env.step(action)\n",
    "\n",
    "        # Render the environment\n",
    "        env.render()\n",
    "\n",
    "        if done:\n",
    "            clear_output(wait=True)\n",
    "            print(\"You reached the goal! Resetting environment...\")\n",
    "            env.reset()\n",
    "            env.render()\n",
    "\n",
    "# Attach the same callback to each button\n",
    "button_up.on_click(on_button_click)\n",
    "button_down.on_click(on_button_click)\n",
    "button_left.on_click(on_button_click)\n",
    "button_right.on_click(on_button_click)\n",
    "\n",
    "# Display them\n",
    "display(controls)\n",
    "display(output)"
   ],
   "outputs": [
    {
     "data": {
      "text/plain": [
       "GridBox(children=(Button(description='Up', layout=Layout(grid_area='1 / 2'), style=ButtonStyle()), Button(desc…"
      ],
      "application/vnd.jupyter.widget-view+json": {
       "version_major": 2,
       "version_minor": 0,
       "model_id": "f966dcba06924fdf82abe3c8a3a506ce"
      }
     },
     "metadata": {},
     "output_type": "display_data"
    },
    {
     "data": {
      "text/plain": [
       "Output()"
      ],
      "application/vnd.jupyter.widget-view+json": {
       "version_major": 2,
       "version_minor": 0,
       "model_id": "aa355302ce974a3eb48300a07efbee15"
      }
     },
     "metadata": {},
     "output_type": "display_data"
    }
   ],
   "execution_count": 56
  },
  {
   "cell_type": "markdown",
   "id": "489cf0fce8be58d",
   "metadata": {},
   "source": "#### Using arrow keys (needs ipyevents library):"
  },
  {
   "metadata": {
    "ExecuteTime": {
     "end_time": "2025-03-21T09:36:37.457482Z",
     "start_time": "2025-03-21T09:36:37.447757Z"
    }
   },
   "cell_type": "code",
   "source": [
    "l = widgets.Label('Click or type on me!')\n",
    "l.layout.border = '2px solid red'\n",
    "\n",
    "h = widgets.HTML('Event info')\n",
    "d = ipyevents.Event(source=l, watched_events=['click', 'keydown', 'mouseenter', 'touchmove'])\n",
    "\n",
    "def handle_event(event):\n",
    "    lines = ['{}: {}'.format(k, v) for k, v in event.items()]\n",
    "    content = '<br>'.join(lines)\n",
    "    h.value = content\n",
    "\n",
    "d.on_dom_event(handle_event)\n",
    "display(l, h)"
   ],
   "id": "a6d07b2b3bce1fa8",
   "outputs": [
    {
     "data": {
      "text/plain": [
       "Label(value='Click or type on me!', layout=Layout(border_bottom='2px solid red', border_left='2px solid red', …"
      ],
      "application/vnd.jupyter.widget-view+json": {
       "version_major": 2,
       "version_minor": 0,
       "model_id": "ec5adfece5694ec98e22fcf594180992"
      }
     },
     "metadata": {},
     "output_type": "display_data"
    },
    {
     "data": {
      "text/plain": [
       "HTML(value='Event info')"
      ],
      "application/vnd.jupyter.widget-view+json": {
       "version_major": 2,
       "version_minor": 0,
       "model_id": "0a760b4bb3ac4ad995738b31af46c003"
      }
     },
     "metadata": {},
     "output_type": "display_data"
    }
   ],
   "execution_count": 57
  },
  {
   "cell_type": "code",
   "id": "e0dac2021e2b71bd",
   "metadata": {
    "ExecuteTime": {
     "end_time": "2025-03-21T09:36:37.476669Z",
     "start_time": "2025-03-21T09:36:37.467579Z"
    }
   },
   "source": [
    "env = SmallGridEnv(rows=4, cols=4)\n",
    "env.reset()\n",
    "\n",
    "l = widgets.Label('Click or type on me!')\n",
    "l.layout.border = '2px solid red'\n",
    "\n",
    "d = ipyevents.Event(source=l, watched_events=['keydown'])\n",
    "\n",
    "def handle_key(event):\n",
    "    key_code = event['key']\n",
    "    print(key_code)\n",
    "    if key_code == 'ArrowLeft':\n",
    "        action = \"left\"\n",
    "    elif key_code == 'ArrowUp':\n",
    "        action = \"up\"\n",
    "    elif key_code == 'ArrowRight':\n",
    "        action = \"right\"\n",
    "    elif key_code == 'ArrowDown':\n",
    "        action = \"down\"\n",
    "    else:\n",
    "        return\n",
    "\n",
    "    obs, done = env.step(action)\n",
    "\n",
    "    # Render the environment\n",
    "    env.render()\n",
    "\n",
    "    if done:\n",
    "        clear_output(wait=True)\n",
    "        print(\"You reached the goal! Resetting environment...\")\n",
    "        env.reset()\n",
    "        env.render()\n",
    "\n",
    "d.on_dom_event(handle_key)\n",
    "\n",
    "display(l)"
   ],
   "outputs": [
    {
     "data": {
      "text/plain": [
       "Label(value='Click or type on me!', layout=Layout(border_bottom='2px solid red', border_left='2px solid red', …"
      ],
      "application/vnd.jupyter.widget-view+json": {
       "version_major": 2,
       "version_minor": 0,
       "model_id": "8775ac066895497faf44f45cb7638851"
      }
     },
     "metadata": {},
     "output_type": "display_data"
    }
   ],
   "execution_count": 58
  },
  {
   "metadata": {
    "ExecuteTime": {
     "end_time": "2025-03-21T09:36:37.489667Z",
     "start_time": "2025-03-21T09:36:37.487725Z"
    }
   },
   "cell_type": "code",
   "source": "",
   "id": "68dc0fb2288edc7a",
   "outputs": [],
   "execution_count": null
  }
 ],
 "metadata": {
  "kernelspec": {
   "display_name": "Python 3 (ipykernel)",
   "language": "python",
   "name": "python3"
  },
  "language_info": {
   "codemirror_mode": {
    "name": "ipython",
    "version": 3
   },
   "file_extension": ".py",
   "mimetype": "text/x-python",
   "name": "python",
   "nbconvert_exporter": "python",
   "pygments_lexer": "ipython3",
   "version": "3.13.1"
  }
 },
 "nbformat": 4,
 "nbformat_minor": 5
}
